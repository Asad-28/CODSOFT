{
  "nbformat": 4,
  "nbformat_minor": 0,
  "metadata": {
    "colab": {
      "provenance": []
    },
    "kernelspec": {
      "name": "python3",
      "display_name": "Python 3"
    },
    "language_info": {
      "name": "python"
    }
  },
  "cells": [
    {
      "cell_type": "markdown",
      "source": [
        "# Introduction\n",
        "\n",
        "  Sales prediction involves forecasting the amount of a product that\n",
        "customers will purchase, taking into account various factors such as\n",
        "advertising expenditure, target audience segmentation, and\n",
        "advertising platform selection.\n",
        "\n",
        "  In businesses that offer products or services, the role of a Data\n",
        "Scientist is crucial for predicting future sales. They utilize machine\n",
        "learning techniques in Python to analyze and interpret data, allowing\n",
        "them to make informed decisions regarding advertising costs. By\n",
        "leveraging these predictions, businesses can optimize their\n",
        "advertising strategies and maximize sales potential. Let's embark on the journey of sales prediction using machine learning in Python.\n",
        "\n",
        "DATASET [CLICK HERE](https://www.kaggle.com/code/ashydv/sales-prediction-simple-linear-regression/input)"
      ],
      "metadata": {
        "id": "_adAu3aScpxN"
      }
    },
    {
      "cell_type": "markdown",
      "source": [
        "### 1. Importing the Required Libraries\n",
        "\n",
        "In this step, we import the necessary libraries for our data analysis and machine learning tasks. We use pandas for data manipulation, seaborn and matplotlib for data visualization, train_test_split from sklearn.model_selection to split our data into training and testing sets, StandardScaler from sklearn.preprocessing for feature scaling, LinearRegression from sklearn.linear_model for building a linear regression model, and mean_squared_error and r2_score from sklearn.metrics to evaluate our model."
      ],
      "metadata": {
        "id": "Fiw0zKG6HY9M"
      }
    },
    {
      "cell_type": "code",
      "source": [
        "import pandas as pd\n",
        "import seaborn as sns\n",
        "import matplotlib.pyplot as plt\n",
        "from sklearn.model_selection import train_test_split\n",
        "from sklearn.preprocessing import StandardScaler\n",
        "from sklearn.linear_model import LinearRegression\n",
        "from sklearn.metrics import mean_squared_error, r2_score"
      ],
      "metadata": {
        "id": "oq8ttMD1gFNl"
      },
      "execution_count": 1,
      "outputs": []
    },
    {
      "cell_type": "markdown",
      "source": [
        "## 2. Load and View the Dataset\n",
        "\n",
        "In this step, we load the dataset from a CSV file named 'advertising.csv' into a pandas DataFrame called df. We then display the first few rows of the DataFrame using the head() method to get an initial glimpse of the data."
      ],
      "metadata": {
        "id": "m90lBdDNISJR"
      }
    },
    {
      "cell_type": "code",
      "source": [
        "# Load the dataset\n",
        "df = pd.read_csv('advertising.csv')\n",
        "\n",
        "# Display the first few rows\n",
        "df.head()"
      ],
      "metadata": {
        "colab": {
          "base_uri": "https://localhost:8080/",
          "height": 206
        },
        "id": "KXGyjidbHxO9",
        "outputId": "d72d988d-8520-4ee6-a035-877e0283d609"
      },
      "execution_count": 2,
      "outputs": [
        {
          "output_type": "execute_result",
          "data": {
            "text/plain": [
              "      TV  Radio  Newspaper  Sales\n",
              "0  230.1   37.8       69.2   22.1\n",
              "1   44.5   39.3       45.1   10.4\n",
              "2   17.2   45.9       69.3   12.0\n",
              "3  151.5   41.3       58.5   16.5\n",
              "4  180.8   10.8       58.4   17.9"
            ],
            "text/html": [
              "\n",
              "  <div id=\"df-85533e4b-c9dc-4725-a432-0fdaea2e6da2\" class=\"colab-df-container\">\n",
              "    <div>\n",
              "<style scoped>\n",
              "    .dataframe tbody tr th:only-of-type {\n",
              "        vertical-align: middle;\n",
              "    }\n",
              "\n",
              "    .dataframe tbody tr th {\n",
              "        vertical-align: top;\n",
              "    }\n",
              "\n",
              "    .dataframe thead th {\n",
              "        text-align: right;\n",
              "    }\n",
              "</style>\n",
              "<table border=\"1\" class=\"dataframe\">\n",
              "  <thead>\n",
              "    <tr style=\"text-align: right;\">\n",
              "      <th></th>\n",
              "      <th>TV</th>\n",
              "      <th>Radio</th>\n",
              "      <th>Newspaper</th>\n",
              "      <th>Sales</th>\n",
              "    </tr>\n",
              "  </thead>\n",
              "  <tbody>\n",
              "    <tr>\n",
              "      <th>0</th>\n",
              "      <td>230.1</td>\n",
              "      <td>37.8</td>\n",
              "      <td>69.2</td>\n",
              "      <td>22.1</td>\n",
              "    </tr>\n",
              "    <tr>\n",
              "      <th>1</th>\n",
              "      <td>44.5</td>\n",
              "      <td>39.3</td>\n",
              "      <td>45.1</td>\n",
              "      <td>10.4</td>\n",
              "    </tr>\n",
              "    <tr>\n",
              "      <th>2</th>\n",
              "      <td>17.2</td>\n",
              "      <td>45.9</td>\n",
              "      <td>69.3</td>\n",
              "      <td>12.0</td>\n",
              "    </tr>\n",
              "    <tr>\n",
              "      <th>3</th>\n",
              "      <td>151.5</td>\n",
              "      <td>41.3</td>\n",
              "      <td>58.5</td>\n",
              "      <td>16.5</td>\n",
              "    </tr>\n",
              "    <tr>\n",
              "      <th>4</th>\n",
              "      <td>180.8</td>\n",
              "      <td>10.8</td>\n",
              "      <td>58.4</td>\n",
              "      <td>17.9</td>\n",
              "    </tr>\n",
              "  </tbody>\n",
              "</table>\n",
              "</div>\n",
              "    <div class=\"colab-df-buttons\">\n",
              "\n",
              "  <div class=\"colab-df-container\">\n",
              "    <button class=\"colab-df-convert\" onclick=\"convertToInteractive('df-85533e4b-c9dc-4725-a432-0fdaea2e6da2')\"\n",
              "            title=\"Convert this dataframe to an interactive table.\"\n",
              "            style=\"display:none;\">\n",
              "\n",
              "  <svg xmlns=\"http://www.w3.org/2000/svg\" height=\"24px\" viewBox=\"0 -960 960 960\">\n",
              "    <path d=\"M120-120v-720h720v720H120Zm60-500h600v-160H180v160Zm220 220h160v-160H400v160Zm0 220h160v-160H400v160ZM180-400h160v-160H180v160Zm440 0h160v-160H620v160ZM180-180h160v-160H180v160Zm440 0h160v-160H620v160Z\"/>\n",
              "  </svg>\n",
              "    </button>\n",
              "\n",
              "  <style>\n",
              "    .colab-df-container {\n",
              "      display:flex;\n",
              "      gap: 12px;\n",
              "    }\n",
              "\n",
              "    .colab-df-convert {\n",
              "      background-color: #E8F0FE;\n",
              "      border: none;\n",
              "      border-radius: 50%;\n",
              "      cursor: pointer;\n",
              "      display: none;\n",
              "      fill: #1967D2;\n",
              "      height: 32px;\n",
              "      padding: 0 0 0 0;\n",
              "      width: 32px;\n",
              "    }\n",
              "\n",
              "    .colab-df-convert:hover {\n",
              "      background-color: #E2EBFA;\n",
              "      box-shadow: 0px 1px 2px rgba(60, 64, 67, 0.3), 0px 1px 3px 1px rgba(60, 64, 67, 0.15);\n",
              "      fill: #174EA6;\n",
              "    }\n",
              "\n",
              "    .colab-df-buttons div {\n",
              "      margin-bottom: 4px;\n",
              "    }\n",
              "\n",
              "    [theme=dark] .colab-df-convert {\n",
              "      background-color: #3B4455;\n",
              "      fill: #D2E3FC;\n",
              "    }\n",
              "\n",
              "    [theme=dark] .colab-df-convert:hover {\n",
              "      background-color: #434B5C;\n",
              "      box-shadow: 0px 1px 3px 1px rgba(0, 0, 0, 0.15);\n",
              "      filter: drop-shadow(0px 1px 2px rgba(0, 0, 0, 0.3));\n",
              "      fill: #FFFFFF;\n",
              "    }\n",
              "  </style>\n",
              "\n",
              "    <script>\n",
              "      const buttonEl =\n",
              "        document.querySelector('#df-85533e4b-c9dc-4725-a432-0fdaea2e6da2 button.colab-df-convert');\n",
              "      buttonEl.style.display =\n",
              "        google.colab.kernel.accessAllowed ? 'block' : 'none';\n",
              "\n",
              "      async function convertToInteractive(key) {\n",
              "        const element = document.querySelector('#df-85533e4b-c9dc-4725-a432-0fdaea2e6da2');\n",
              "        const dataTable =\n",
              "          await google.colab.kernel.invokeFunction('convertToInteractive',\n",
              "                                                    [key], {});\n",
              "        if (!dataTable) return;\n",
              "\n",
              "        const docLinkHtml = 'Like what you see? Visit the ' +\n",
              "          '<a target=\"_blank\" href=https://colab.research.google.com/notebooks/data_table.ipynb>data table notebook</a>'\n",
              "          + ' to learn more about interactive tables.';\n",
              "        element.innerHTML = '';\n",
              "        dataTable['output_type'] = 'display_data';\n",
              "        await google.colab.output.renderOutput(dataTable, element);\n",
              "        const docLink = document.createElement('div');\n",
              "        docLink.innerHTML = docLinkHtml;\n",
              "        element.appendChild(docLink);\n",
              "      }\n",
              "    </script>\n",
              "  </div>\n",
              "\n",
              "\n",
              "<div id=\"df-1db84eb6-c0eb-4dd0-b34b-ae7449b9c53c\">\n",
              "  <button class=\"colab-df-quickchart\" onclick=\"quickchart('df-1db84eb6-c0eb-4dd0-b34b-ae7449b9c53c')\"\n",
              "            title=\"Suggest charts\"\n",
              "            style=\"display:none;\">\n",
              "\n",
              "<svg xmlns=\"http://www.w3.org/2000/svg\" height=\"24px\"viewBox=\"0 0 24 24\"\n",
              "     width=\"24px\">\n",
              "    <g>\n",
              "        <path d=\"M19 3H5c-1.1 0-2 .9-2 2v14c0 1.1.9 2 2 2h14c1.1 0 2-.9 2-2V5c0-1.1-.9-2-2-2zM9 17H7v-7h2v7zm4 0h-2V7h2v10zm4 0h-2v-4h2v4z\"/>\n",
              "    </g>\n",
              "</svg>\n",
              "  </button>\n",
              "\n",
              "<style>\n",
              "  .colab-df-quickchart {\n",
              "      --bg-color: #E8F0FE;\n",
              "      --fill-color: #1967D2;\n",
              "      --hover-bg-color: #E2EBFA;\n",
              "      --hover-fill-color: #174EA6;\n",
              "      --disabled-fill-color: #AAA;\n",
              "      --disabled-bg-color: #DDD;\n",
              "  }\n",
              "\n",
              "  [theme=dark] .colab-df-quickchart {\n",
              "      --bg-color: #3B4455;\n",
              "      --fill-color: #D2E3FC;\n",
              "      --hover-bg-color: #434B5C;\n",
              "      --hover-fill-color: #FFFFFF;\n",
              "      --disabled-bg-color: #3B4455;\n",
              "      --disabled-fill-color: #666;\n",
              "  }\n",
              "\n",
              "  .colab-df-quickchart {\n",
              "    background-color: var(--bg-color);\n",
              "    border: none;\n",
              "    border-radius: 50%;\n",
              "    cursor: pointer;\n",
              "    display: none;\n",
              "    fill: var(--fill-color);\n",
              "    height: 32px;\n",
              "    padding: 0;\n",
              "    width: 32px;\n",
              "  }\n",
              "\n",
              "  .colab-df-quickchart:hover {\n",
              "    background-color: var(--hover-bg-color);\n",
              "    box-shadow: 0 1px 2px rgba(60, 64, 67, 0.3), 0 1px 3px 1px rgba(60, 64, 67, 0.15);\n",
              "    fill: var(--button-hover-fill-color);\n",
              "  }\n",
              "\n",
              "  .colab-df-quickchart-complete:disabled,\n",
              "  .colab-df-quickchart-complete:disabled:hover {\n",
              "    background-color: var(--disabled-bg-color);\n",
              "    fill: var(--disabled-fill-color);\n",
              "    box-shadow: none;\n",
              "  }\n",
              "\n",
              "  .colab-df-spinner {\n",
              "    border: 2px solid var(--fill-color);\n",
              "    border-color: transparent;\n",
              "    border-bottom-color: var(--fill-color);\n",
              "    animation:\n",
              "      spin 1s steps(1) infinite;\n",
              "  }\n",
              "\n",
              "  @keyframes spin {\n",
              "    0% {\n",
              "      border-color: transparent;\n",
              "      border-bottom-color: var(--fill-color);\n",
              "      border-left-color: var(--fill-color);\n",
              "    }\n",
              "    20% {\n",
              "      border-color: transparent;\n",
              "      border-left-color: var(--fill-color);\n",
              "      border-top-color: var(--fill-color);\n",
              "    }\n",
              "    30% {\n",
              "      border-color: transparent;\n",
              "      border-left-color: var(--fill-color);\n",
              "      border-top-color: var(--fill-color);\n",
              "      border-right-color: var(--fill-color);\n",
              "    }\n",
              "    40% {\n",
              "      border-color: transparent;\n",
              "      border-right-color: var(--fill-color);\n",
              "      border-top-color: var(--fill-color);\n",
              "    }\n",
              "    60% {\n",
              "      border-color: transparent;\n",
              "      border-right-color: var(--fill-color);\n",
              "    }\n",
              "    80% {\n",
              "      border-color: transparent;\n",
              "      border-right-color: var(--fill-color);\n",
              "      border-bottom-color: var(--fill-color);\n",
              "    }\n",
              "    90% {\n",
              "      border-color: transparent;\n",
              "      border-bottom-color: var(--fill-color);\n",
              "    }\n",
              "  }\n",
              "</style>\n",
              "\n",
              "  <script>\n",
              "    async function quickchart(key) {\n",
              "      const quickchartButtonEl =\n",
              "        document.querySelector('#' + key + ' button');\n",
              "      quickchartButtonEl.disabled = true;  // To prevent multiple clicks.\n",
              "      quickchartButtonEl.classList.add('colab-df-spinner');\n",
              "      try {\n",
              "        const charts = await google.colab.kernel.invokeFunction(\n",
              "            'suggestCharts', [key], {});\n",
              "      } catch (error) {\n",
              "        console.error('Error during call to suggestCharts:', error);\n",
              "      }\n",
              "      quickchartButtonEl.classList.remove('colab-df-spinner');\n",
              "      quickchartButtonEl.classList.add('colab-df-quickchart-complete');\n",
              "    }\n",
              "    (() => {\n",
              "      let quickchartButtonEl =\n",
              "        document.querySelector('#df-1db84eb6-c0eb-4dd0-b34b-ae7449b9c53c button');\n",
              "      quickchartButtonEl.style.display =\n",
              "        google.colab.kernel.accessAllowed ? 'block' : 'none';\n",
              "    })();\n",
              "  </script>\n",
              "</div>\n",
              "\n",
              "    </div>\n",
              "  </div>\n"
            ],
            "application/vnd.google.colaboratory.intrinsic+json": {
              "type": "dataframe",
              "variable_name": "df",
              "summary": "{\n  \"name\": \"df\",\n  \"rows\": 200,\n  \"fields\": [\n    {\n      \"column\": \"TV\",\n      \"properties\": {\n        \"dtype\": \"number\",\n        \"std\": 85.85423631490808,\n        \"min\": 0.7,\n        \"max\": 296.4,\n        \"num_unique_values\": 190,\n        \"samples\": [\n          287.6,\n          286.0,\n          78.2\n        ],\n        \"semantic_type\": \"\",\n        \"description\": \"\"\n      }\n    },\n    {\n      \"column\": \"Radio\",\n      \"properties\": {\n        \"dtype\": \"number\",\n        \"std\": 14.846809176168724,\n        \"min\": 0.0,\n        \"max\": 49.6,\n        \"num_unique_values\": 167,\n        \"samples\": [\n          8.2,\n          36.9,\n          44.5\n        ],\n        \"semantic_type\": \"\",\n        \"description\": \"\"\n      }\n    },\n    {\n      \"column\": \"Newspaper\",\n      \"properties\": {\n        \"dtype\": \"number\",\n        \"std\": 21.778620838522826,\n        \"min\": 0.3,\n        \"max\": 114.0,\n        \"num_unique_values\": 172,\n        \"samples\": [\n          22.3,\n          5.7,\n          17.0\n        ],\n        \"semantic_type\": \"\",\n        \"description\": \"\"\n      }\n    },\n    {\n      \"column\": \"Sales\",\n      \"properties\": {\n        \"dtype\": \"number\",\n        \"std\": 5.283892252561876,\n        \"min\": 1.6,\n        \"max\": 27.0,\n        \"num_unique_values\": 121,\n        \"samples\": [\n          19.8,\n          22.6,\n          17.9\n        ],\n        \"semantic_type\": \"\",\n        \"description\": \"\"\n      }\n    }\n  ]\n}"
            }
          },
          "metadata": {},
          "execution_count": 2
        }
      ]
    },
    {
      "cell_type": "markdown",
      "source": [
        "The table above shows a snippet of a dataset with four columns: \"TV\", \"Radio\", \"Newspaper\", and \"Sales\". Each row represents a different entry in the dataset, with values indicating the amount spent on advertising through different channels (TV, Radio, Newspaper) and the corresponding sales generated. For example, the first row indicates that $230.1 was spent on TV advertising, $37.8 on Radio, $69.2 on Newspaper, and this resulted in sales of 22.1 units."
      ],
      "metadata": {
        "id": "y9eZoM9WI0ao"
      }
    },
    {
      "cell_type": "markdown",
      "source": [
        "## 3. Checking Datatypes and Missing Values in Dataframe\n",
        "\n",
        "In this step, we check the data types of each column in the DataFrame using the info() method. This provides us with information about the column data types and the number of non-null values in each column.\n",
        "\n",
        "Next, we use the isnull() method to check for missing values in the DataFrame, followed by the sum() method to calculate the total number of missing values in each column. This helps us identify if there are any missing values that need to be addressed before further analysis."
      ],
      "metadata": {
        "id": "YkR4rd5sJDjF"
      }
    },
    {
      "cell_type": "code",
      "source": [
        "# Check data types\n",
        "df.info()"
      ],
      "metadata": {
        "colab": {
          "base_uri": "https://localhost:8080/"
        },
        "id": "5CPBJPR9gHu2",
        "outputId": "5f684375-02dd-413d-b579-48d7f0329ce2"
      },
      "execution_count": 3,
      "outputs": [
        {
          "output_type": "stream",
          "name": "stdout",
          "text": [
            "<class 'pandas.core.frame.DataFrame'>\n",
            "RangeIndex: 200 entries, 0 to 199\n",
            "Data columns (total 4 columns):\n",
            " #   Column     Non-Null Count  Dtype  \n",
            "---  ------     --------------  -----  \n",
            " 0   TV         200 non-null    float64\n",
            " 1   Radio      200 non-null    float64\n",
            " 2   Newspaper  200 non-null    float64\n",
            " 3   Sales      200 non-null    float64\n",
            "dtypes: float64(4)\n",
            "memory usage: 6.4 KB\n"
          ]
        }
      ]
    },
    {
      "cell_type": "markdown",
      "source": [
        "The output from df.info() provides the following information about the DataFrame:\n",
        "\n",
        "- RangeIndex: This indicates that the DataFrame has 200 entries, numbered from 0 to 199, representing the number of rows in the DataFrame.\n",
        "\n",
        "- Data columns: This section lists the names of the columns in the DataFrame along with two additional pieces of information:\n",
        "\n",
        "- Non-Null Count: This indicates the number of non-null (non-missing) values present in each column. In this case, all columns have 200 non-null values, which means there are no missing values in the DataFrame.\n",
        "\n",
        "- Dtype: This indicates the data type of the values in each column. All columns in this DataFrame have a data type of float64, which means they contain floating-point numbers.\n",
        "\n",
        "- Memory Usage: This indicates the amount of memory (in kilobytes) used by the DataFrame to store the data. In this case, the DataFrame uses 6.4 KB of memory.\n",
        "\n",
        "Overall, this information gives a summary of the structure of the DataFrame, including the number of entries, the columns present, the presence of missing values, and the data types of the columns."
      ],
      "metadata": {
        "id": "R9dr084dJmT1"
      }
    },
    {
      "cell_type": "code",
      "source": [
        "# Check for missing values\n",
        "df.isnull().sum()"
      ],
      "metadata": {
        "colab": {
          "base_uri": "https://localhost:8080/"
        },
        "id": "dOuRR_FcgLHN",
        "outputId": "80dfbe11-f481-4d7c-8cf9-f2063f9d9d9d"
      },
      "execution_count": 4,
      "outputs": [
        {
          "output_type": "execute_result",
          "data": {
            "text/plain": [
              "TV           0\n",
              "Radio        0\n",
              "Newspaper    0\n",
              "Sales        0\n",
              "dtype: int64"
            ]
          },
          "metadata": {},
          "execution_count": 4
        }
      ]
    },
    {
      "cell_type": "markdown",
      "source": [
        "The output 0 for all columns (TV, Radio, Newspaper, Sales) indicates that there are no missing values (null values) in any of these columns. The df.isnull().sum() method calculates the number of missing values for each column in the DataFrame (df). Since all columns have a count of 0, it means there are no missing values in the DataFrame for any of these columns."
      ],
      "metadata": {
        "id": "qU06jMI3J18J"
      }
    },
    {
      "cell_type": "markdown",
      "source": [
        "## 4. EDA (Exploratory Data Analysis)\n",
        "\n",
        " Exploratory Data Analysis is a crucial step in data analysis that involves exploring and summarizing the main characteristics of a dataset. This process helps in understanding the data, identifying patterns, and checking assumptions before applying more complex statistical analyses."
      ],
      "metadata": {
        "id": "nWNIkST3KIBa"
      }
    },
    {
      "cell_type": "markdown",
      "source": [
        "### 4.1 Univariate Analysis\n",
        "\n",
        "In univariate analysis, we explore each variable individually to understand its distribution and characteristics. Here, we perform univariate analysis on the dataset using summary statistics and histograms.\n",
        "\n",
        "#### Summary Statistics:\n",
        "The `describe()` method provides summary statistics for numerical columns, including count, mean, standard deviation, minimum, 25th percentile (Q1), median (50th percentile or Q2), 75th percentile (Q3), and maximum values. These statistics give us an overview of the central tendency, dispersion, and shape of the distribution for each numerical feature.\n",
        "\n",
        "#### Histograms:\n",
        "Histograms are used to visualize the distribution of numerical data. We plot histograms for all numerical features (`TV`, `Radio`, `Newspaper`, and `Sales`) using `df.hist()`. The `bins` parameter controls the number of bins or intervals in the histogram, and `figsize` adjusts the size of the plot.\n",
        "\n",
        "Additionally, we create a separate histogram for the target variable `Sales` using `sns.histplot()` from the Seaborn library. Setting `kde=True` adds a kernel density estimate to the plot, providing a smoothed representation of the distribution.\n",
        "\n",
        "These visualizations help us understand the distribution and spread of values in each feature, as well as the distribution of the target variable, which is essential for further analysis and modeling."
      ],
      "metadata": {
        "id": "ZArnhgVYKe-P"
      }
    },
    {
      "cell_type": "code",
      "source": [
        "# Summary statistics for numerical columns\n",
        "df.describe()"
      ],
      "metadata": {
        "colab": {
          "base_uri": "https://localhost:8080/",
          "height": 300
        },
        "id": "XF1lhNHcgLag",
        "outputId": "8b0e99c6-0541-44eb-96ad-4be749c3cec6"
      },
      "execution_count": 5,
      "outputs": [
        {
          "output_type": "execute_result",
          "data": {
            "text/plain": [
              "               TV       Radio   Newspaper       Sales\n",
              "count  200.000000  200.000000  200.000000  200.000000\n",
              "mean   147.042500   23.264000   30.554000   15.130500\n",
              "std     85.854236   14.846809   21.778621    5.283892\n",
              "min      0.700000    0.000000    0.300000    1.600000\n",
              "25%     74.375000    9.975000   12.750000   11.000000\n",
              "50%    149.750000   22.900000   25.750000   16.000000\n",
              "75%    218.825000   36.525000   45.100000   19.050000\n",
              "max    296.400000   49.600000  114.000000   27.000000"
            ],
            "text/html": [
              "\n",
              "  <div id=\"df-a024a83a-04cd-4897-a418-3ab74d0b1991\" class=\"colab-df-container\">\n",
              "    <div>\n",
              "<style scoped>\n",
              "    .dataframe tbody tr th:only-of-type {\n",
              "        vertical-align: middle;\n",
              "    }\n",
              "\n",
              "    .dataframe tbody tr th {\n",
              "        vertical-align: top;\n",
              "    }\n",
              "\n",
              "    .dataframe thead th {\n",
              "        text-align: right;\n",
              "    }\n",
              "</style>\n",
              "<table border=\"1\" class=\"dataframe\">\n",
              "  <thead>\n",
              "    <tr style=\"text-align: right;\">\n",
              "      <th></th>\n",
              "      <th>TV</th>\n",
              "      <th>Radio</th>\n",
              "      <th>Newspaper</th>\n",
              "      <th>Sales</th>\n",
              "    </tr>\n",
              "  </thead>\n",
              "  <tbody>\n",
              "    <tr>\n",
              "      <th>count</th>\n",
              "      <td>200.000000</td>\n",
              "      <td>200.000000</td>\n",
              "      <td>200.000000</td>\n",
              "      <td>200.000000</td>\n",
              "    </tr>\n",
              "    <tr>\n",
              "      <th>mean</th>\n",
              "      <td>147.042500</td>\n",
              "      <td>23.264000</td>\n",
              "      <td>30.554000</td>\n",
              "      <td>15.130500</td>\n",
              "    </tr>\n",
              "    <tr>\n",
              "      <th>std</th>\n",
              "      <td>85.854236</td>\n",
              "      <td>14.846809</td>\n",
              "      <td>21.778621</td>\n",
              "      <td>5.283892</td>\n",
              "    </tr>\n",
              "    <tr>\n",
              "      <th>min</th>\n",
              "      <td>0.700000</td>\n",
              "      <td>0.000000</td>\n",
              "      <td>0.300000</td>\n",
              "      <td>1.600000</td>\n",
              "    </tr>\n",
              "    <tr>\n",
              "      <th>25%</th>\n",
              "      <td>74.375000</td>\n",
              "      <td>9.975000</td>\n",
              "      <td>12.750000</td>\n",
              "      <td>11.000000</td>\n",
              "    </tr>\n",
              "    <tr>\n",
              "      <th>50%</th>\n",
              "      <td>149.750000</td>\n",
              "      <td>22.900000</td>\n",
              "      <td>25.750000</td>\n",
              "      <td>16.000000</td>\n",
              "    </tr>\n",
              "    <tr>\n",
              "      <th>75%</th>\n",
              "      <td>218.825000</td>\n",
              "      <td>36.525000</td>\n",
              "      <td>45.100000</td>\n",
              "      <td>19.050000</td>\n",
              "    </tr>\n",
              "    <tr>\n",
              "      <th>max</th>\n",
              "      <td>296.400000</td>\n",
              "      <td>49.600000</td>\n",
              "      <td>114.000000</td>\n",
              "      <td>27.000000</td>\n",
              "    </tr>\n",
              "  </tbody>\n",
              "</table>\n",
              "</div>\n",
              "    <div class=\"colab-df-buttons\">\n",
              "\n",
              "  <div class=\"colab-df-container\">\n",
              "    <button class=\"colab-df-convert\" onclick=\"convertToInteractive('df-a024a83a-04cd-4897-a418-3ab74d0b1991')\"\n",
              "            title=\"Convert this dataframe to an interactive table.\"\n",
              "            style=\"display:none;\">\n",
              "\n",
              "  <svg xmlns=\"http://www.w3.org/2000/svg\" height=\"24px\" viewBox=\"0 -960 960 960\">\n",
              "    <path d=\"M120-120v-720h720v720H120Zm60-500h600v-160H180v160Zm220 220h160v-160H400v160Zm0 220h160v-160H400v160ZM180-400h160v-160H180v160Zm440 0h160v-160H620v160ZM180-180h160v-160H180v160Zm440 0h160v-160H620v160Z\"/>\n",
              "  </svg>\n",
              "    </button>\n",
              "\n",
              "  <style>\n",
              "    .colab-df-container {\n",
              "      display:flex;\n",
              "      gap: 12px;\n",
              "    }\n",
              "\n",
              "    .colab-df-convert {\n",
              "      background-color: #E8F0FE;\n",
              "      border: none;\n",
              "      border-radius: 50%;\n",
              "      cursor: pointer;\n",
              "      display: none;\n",
              "      fill: #1967D2;\n",
              "      height: 32px;\n",
              "      padding: 0 0 0 0;\n",
              "      width: 32px;\n",
              "    }\n",
              "\n",
              "    .colab-df-convert:hover {\n",
              "      background-color: #E2EBFA;\n",
              "      box-shadow: 0px 1px 2px rgba(60, 64, 67, 0.3), 0px 1px 3px 1px rgba(60, 64, 67, 0.15);\n",
              "      fill: #174EA6;\n",
              "    }\n",
              "\n",
              "    .colab-df-buttons div {\n",
              "      margin-bottom: 4px;\n",
              "    }\n",
              "\n",
              "    [theme=dark] .colab-df-convert {\n",
              "      background-color: #3B4455;\n",
              "      fill: #D2E3FC;\n",
              "    }\n",
              "\n",
              "    [theme=dark] .colab-df-convert:hover {\n",
              "      background-color: #434B5C;\n",
              "      box-shadow: 0px 1px 3px 1px rgba(0, 0, 0, 0.15);\n",
              "      filter: drop-shadow(0px 1px 2px rgba(0, 0, 0, 0.3));\n",
              "      fill: #FFFFFF;\n",
              "    }\n",
              "  </style>\n",
              "\n",
              "    <script>\n",
              "      const buttonEl =\n",
              "        document.querySelector('#df-a024a83a-04cd-4897-a418-3ab74d0b1991 button.colab-df-convert');\n",
              "      buttonEl.style.display =\n",
              "        google.colab.kernel.accessAllowed ? 'block' : 'none';\n",
              "\n",
              "      async function convertToInteractive(key) {\n",
              "        const element = document.querySelector('#df-a024a83a-04cd-4897-a418-3ab74d0b1991');\n",
              "        const dataTable =\n",
              "          await google.colab.kernel.invokeFunction('convertToInteractive',\n",
              "                                                    [key], {});\n",
              "        if (!dataTable) return;\n",
              "\n",
              "        const docLinkHtml = 'Like what you see? Visit the ' +\n",
              "          '<a target=\"_blank\" href=https://colab.research.google.com/notebooks/data_table.ipynb>data table notebook</a>'\n",
              "          + ' to learn more about interactive tables.';\n",
              "        element.innerHTML = '';\n",
              "        dataTable['output_type'] = 'display_data';\n",
              "        await google.colab.output.renderOutput(dataTable, element);\n",
              "        const docLink = document.createElement('div');\n",
              "        docLink.innerHTML = docLinkHtml;\n",
              "        element.appendChild(docLink);\n",
              "      }\n",
              "    </script>\n",
              "  </div>\n",
              "\n",
              "\n",
              "<div id=\"df-188f56b4-deb7-449c-8d59-62f336334f8c\">\n",
              "  <button class=\"colab-df-quickchart\" onclick=\"quickchart('df-188f56b4-deb7-449c-8d59-62f336334f8c')\"\n",
              "            title=\"Suggest charts\"\n",
              "            style=\"display:none;\">\n",
              "\n",
              "<svg xmlns=\"http://www.w3.org/2000/svg\" height=\"24px\"viewBox=\"0 0 24 24\"\n",
              "     width=\"24px\">\n",
              "    <g>\n",
              "        <path d=\"M19 3H5c-1.1 0-2 .9-2 2v14c0 1.1.9 2 2 2h14c1.1 0 2-.9 2-2V5c0-1.1-.9-2-2-2zM9 17H7v-7h2v7zm4 0h-2V7h2v10zm4 0h-2v-4h2v4z\"/>\n",
              "    </g>\n",
              "</svg>\n",
              "  </button>\n",
              "\n",
              "<style>\n",
              "  .colab-df-quickchart {\n",
              "      --bg-color: #E8F0FE;\n",
              "      --fill-color: #1967D2;\n",
              "      --hover-bg-color: #E2EBFA;\n",
              "      --hover-fill-color: #174EA6;\n",
              "      --disabled-fill-color: #AAA;\n",
              "      --disabled-bg-color: #DDD;\n",
              "  }\n",
              "\n",
              "  [theme=dark] .colab-df-quickchart {\n",
              "      --bg-color: #3B4455;\n",
              "      --fill-color: #D2E3FC;\n",
              "      --hover-bg-color: #434B5C;\n",
              "      --hover-fill-color: #FFFFFF;\n",
              "      --disabled-bg-color: #3B4455;\n",
              "      --disabled-fill-color: #666;\n",
              "  }\n",
              "\n",
              "  .colab-df-quickchart {\n",
              "    background-color: var(--bg-color);\n",
              "    border: none;\n",
              "    border-radius: 50%;\n",
              "    cursor: pointer;\n",
              "    display: none;\n",
              "    fill: var(--fill-color);\n",
              "    height: 32px;\n",
              "    padding: 0;\n",
              "    width: 32px;\n",
              "  }\n",
              "\n",
              "  .colab-df-quickchart:hover {\n",
              "    background-color: var(--hover-bg-color);\n",
              "    box-shadow: 0 1px 2px rgba(60, 64, 67, 0.3), 0 1px 3px 1px rgba(60, 64, 67, 0.15);\n",
              "    fill: var(--button-hover-fill-color);\n",
              "  }\n",
              "\n",
              "  .colab-df-quickchart-complete:disabled,\n",
              "  .colab-df-quickchart-complete:disabled:hover {\n",
              "    background-color: var(--disabled-bg-color);\n",
              "    fill: var(--disabled-fill-color);\n",
              "    box-shadow: none;\n",
              "  }\n",
              "\n",
              "  .colab-df-spinner {\n",
              "    border: 2px solid var(--fill-color);\n",
              "    border-color: transparent;\n",
              "    border-bottom-color: var(--fill-color);\n",
              "    animation:\n",
              "      spin 1s steps(1) infinite;\n",
              "  }\n",
              "\n",
              "  @keyframes spin {\n",
              "    0% {\n",
              "      border-color: transparent;\n",
              "      border-bottom-color: var(--fill-color);\n",
              "      border-left-color: var(--fill-color);\n",
              "    }\n",
              "    20% {\n",
              "      border-color: transparent;\n",
              "      border-left-color: var(--fill-color);\n",
              "      border-top-color: var(--fill-color);\n",
              "    }\n",
              "    30% {\n",
              "      border-color: transparent;\n",
              "      border-left-color: var(--fill-color);\n",
              "      border-top-color: var(--fill-color);\n",
              "      border-right-color: var(--fill-color);\n",
              "    }\n",
              "    40% {\n",
              "      border-color: transparent;\n",
              "      border-right-color: var(--fill-color);\n",
              "      border-top-color: var(--fill-color);\n",
              "    }\n",
              "    60% {\n",
              "      border-color: transparent;\n",
              "      border-right-color: var(--fill-color);\n",
              "    }\n",
              "    80% {\n",
              "      border-color: transparent;\n",
              "      border-right-color: var(--fill-color);\n",
              "      border-bottom-color: var(--fill-color);\n",
              "    }\n",
              "    90% {\n",
              "      border-color: transparent;\n",
              "      border-bottom-color: var(--fill-color);\n",
              "    }\n",
              "  }\n",
              "</style>\n",
              "\n",
              "  <script>\n",
              "    async function quickchart(key) {\n",
              "      const quickchartButtonEl =\n",
              "        document.querySelector('#' + key + ' button');\n",
              "      quickchartButtonEl.disabled = true;  // To prevent multiple clicks.\n",
              "      quickchartButtonEl.classList.add('colab-df-spinner');\n",
              "      try {\n",
              "        const charts = await google.colab.kernel.invokeFunction(\n",
              "            'suggestCharts', [key], {});\n",
              "      } catch (error) {\n",
              "        console.error('Error during call to suggestCharts:', error);\n",
              "      }\n",
              "      quickchartButtonEl.classList.remove('colab-df-spinner');\n",
              "      quickchartButtonEl.classList.add('colab-df-quickchart-complete');\n",
              "    }\n",
              "    (() => {\n",
              "      let quickchartButtonEl =\n",
              "        document.querySelector('#df-188f56b4-deb7-449c-8d59-62f336334f8c button');\n",
              "      quickchartButtonEl.style.display =\n",
              "        google.colab.kernel.accessAllowed ? 'block' : 'none';\n",
              "    })();\n",
              "  </script>\n",
              "</div>\n",
              "\n",
              "    </div>\n",
              "  </div>\n"
            ],
            "application/vnd.google.colaboratory.intrinsic+json": {
              "type": "dataframe",
              "summary": "{\n  \"name\": \"df\",\n  \"rows\": 8,\n  \"fields\": [\n    {\n      \"column\": \"TV\",\n      \"properties\": {\n        \"dtype\": \"number\",\n        \"std\": 93.12930693433862,\n        \"min\": 0.7,\n        \"max\": 296.4,\n        \"num_unique_values\": 8,\n        \"samples\": [\n          147.0425,\n          149.75,\n          200.0\n        ],\n        \"semantic_type\": \"\",\n        \"description\": \"\"\n      }\n    },\n    {\n      \"column\": \"Radio\",\n      \"properties\": {\n        \"dtype\": \"number\",\n        \"std\": 64.62946191825954,\n        \"min\": 0.0,\n        \"max\": 200.0,\n        \"num_unique_values\": 8,\n        \"samples\": [\n          23.264000000000006,\n          22.9,\n          200.0\n        ],\n        \"semantic_type\": \"\",\n        \"description\": \"\"\n      }\n    },\n    {\n      \"column\": \"Newspaper\",\n      \"properties\": {\n        \"dtype\": \"number\",\n        \"std\": 67.53295876114069,\n        \"min\": 0.3,\n        \"max\": 200.0,\n        \"num_unique_values\": 8,\n        \"samples\": [\n          30.553999999999995,\n          25.75,\n          200.0\n        ],\n        \"semantic_type\": \"\",\n        \"description\": \"\"\n      }\n    },\n    {\n      \"column\": \"Sales\",\n      \"properties\": {\n        \"dtype\": \"number\",\n        \"std\": 66.38140832735901,\n        \"min\": 1.6,\n        \"max\": 200.0,\n        \"num_unique_values\": 8,\n        \"samples\": [\n          15.130500000000001,\n          16.0,\n          200.0\n        ],\n        \"semantic_type\": \"\",\n        \"description\": \"\"\n      }\n    }\n  ]\n}"
            }
          },
          "metadata": {},
          "execution_count": 5
        }
      ]
    },
    {
      "cell_type": "markdown",
      "source": [
        "This table provides summary statistics for the numerical columns in the dataset:\n",
        "\n",
        "- **count**: The number of non-null observations in each column. For example, there are 200 observations for each of the columns (`TV`, `Radio`, `Newspaper`, `Sales`), indicating that there are no missing values in the dataset.\n",
        "\n",
        "- **mean**: The average value of each column. For instance, the average amount spent on TV advertising is approximately 147.04 units, while the average sales generated is approximately 15.13 units.\n",
        "\n",
        "- **std**: The standard deviation, which measures the dispersion of values around the mean. It indicates the amount of variation or spread in the data. For example, the standard deviation for the `TV` column is approximately 85.85, indicating a relatively large spread in the amount spent on TV advertising.\n",
        "\n",
        "- **min**: The minimum value in each column. This represents the smallest value observed in the dataset. For instance, the minimum amount spent on TV advertising is 0.7 units, and the minimum sales generated is 1.6 units.\n",
        "\n",
        "- **25%**, **50%**, **75%**: These values represent the quartiles of the data. The 25th percentile (Q1) is the value below which 25% of the data falls, the 50th percentile (Q2 or median) is the value below which 50% of the data falls, and the 75th percentile (Q3) is the value below which 75% of the data falls. These values provide insights into the distribution of the data and can help identify outliers.\n",
        "\n",
        "- **max**: The maximum value in each column, representing the largest value observed in the dataset. For example, the maximum amount spent on TV advertising is 296.4 units, and the maximum sales generated is 27 units.\n",
        "\n",
        "These summary statistics help to understand the central tendency, spread, and distribution of the numerical variables in the dataset."
      ],
      "metadata": {
        "id": "9xwKpOYmLzo4"
      }
    },
    {
      "cell_type": "code",
      "source": [
        "# Histograms for numerical features\n",
        "df.hist(bins=15, figsize=(15, 10))\n",
        "plt.show()"
      ],
      "metadata": {
        "colab": {
          "base_uri": "https://localhost:8080/",
          "height": 853
        },
        "id": "BqSQIHNygNo8",
        "outputId": "67d837b3-2c4d-4e82-ce3a-fa5ab0cb6ee9"
      },
      "execution_count": 6,
      "outputs": [
        {
          "output_type": "display_data",
          "data": {
            "text/plain": [
              "<Figure size 1500x1000 with 4 Axes>"
            ],
            "image/png": "[encoded data removed]"
          },
          "metadata": {}
        }
      ]
    },
    {
      "cell_type": "code",
      "source": [
        "# Histogram for the target variable\n",
        "sns.histplot(df['Sales'], bins=15, kde=True)\n",
        "plt.show()"
      ],
      "metadata": {
        "colab": {
          "base_uri": "https://localhost:8080/",
          "height": 449
        },
        "id": "IQs8Y9a8gP4p",
        "outputId": "97e47316-0b7a-44c1-d148-dfc261a0759b"
      },
      "execution_count": 7,
      "outputs": [
        {
          "output_type": "display_data",
          "data": {
            "text/plain": [
              "<Figure size 640x480 with 1 Axes>"
            ],
            "image/png": "[encoded data removed]"
          },
          "metadata": {}
        }
      ]
    },
    {
      "cell_type": "markdown",
      "source": [
        "### 4.2 Bivariate Analysis\n",
        "\n",
        "Bivariate analysis involves analyzing the relationship between pairs of variables in a dataset. Here, we focus on the relationship between variables using a correlation heatmap.\n",
        "\n",
        "#### Correlation Heatmap:\n",
        "A correlation heatmap is a visual representation of the correlation matrix, which shows the correlation coefficients between pairs of variables. The correlation coefficient ranges from -1 to 1, where:\n",
        "\n",
        "- Values close to 1 indicate a strong positive correlation (as one variable increases, the other also increases).\n",
        "\n",
        "- Values close to -1 indicate a strong negative correlation (as one variable increases, the other decreases).\n",
        "\n",
        "- Values close to 0 indicate no correlation."
      ],
      "metadata": {
        "id": "EJRc3UQ8LBpF"
      }
    },
    {
      "cell_type": "code",
      "source": [
        "# Correlation heatmap\n",
        "correlation_matrix = df.corr()\n",
        "sns.heatmap(correlation_matrix, annot=True, cmap='coolwarm')\n",
        "plt.show()"
      ],
      "metadata": {
        "colab": {
          "base_uri": "https://localhost:8080/",
          "height": 435
        },
        "id": "w9hFfcWxgVVS",
        "outputId": "4dba887c-31e5-445b-b8e9-1ad6b9918157"
      },
      "execution_count": 8,
      "outputs": [
        {
          "output_type": "display_data",
          "data": {
            "text/plain": [
              "<Figure size 640x480 with 2 Axes>"
            ],
            "image/png": "[encoded data removed]"
          },
          "metadata": {}
        }
      ]
    },
    {
      "cell_type": "markdown",
      "source": [
        "## 5. Preprocessing the Data\n",
        "\n",
        "Preprocessing the data is an essential step in data preparation before building machine learning models. It involves transforming the raw data into a format that is suitable for analysis and modeling. Common preprocessing steps include handling missing values, encoding categorical variables, and scaling numerical features.\n",
        "\n",
        "#### Explanation of the Code:\n",
        "1. **Identify Numerical Features**: We first identify the numerical features in the dataset. This step is necessary because some preprocessing techniques, such as scaling, are only applied to numerical features. We use `df.columns[:-1]` to select all columns except the last one, which is assumed to be the target variable (`Sales`).\n",
        "\n",
        "2. **Initialize the Scaler**: We initialize a `StandardScaler` object. The `StandardScaler` is used to scale (standardize) numerical features by removing the mean and scaling to unit variance. This step ensures that all features have the same scale, which is important for many machine learning algorithms.\n",
        "\n",
        "3. **Scale the Numerical Features**: We apply the scaler to the selected numerical features (`df[numerical_features]`) using the `fit_transform()` method. This method computes the mean and standard deviation of each feature and then scales the features according to the formula `(x - mean) / std`, where `x` is the original value, `mean` is the mean of the feature, and `std` is the standard deviation of the feature.\n",
        "\n",
        "Overall, this preprocessing step ensures that the numerical features are on the same scale, which can improve the performance of machine learning models, especially those that are sensitive to the scale of the features (e.g., linear regression, KNN)."
      ],
      "metadata": {
        "id": "hGQb10t4L7Gy"
      }
    },
    {
      "cell_type": "code",
      "source": [
        "# Identify numerical features\n",
        "numerical_features = df.columns[:-1]\n",
        "\n",
        "# Initialize the scaler\n",
        "scaler = StandardScaler()\n",
        "\n",
        "# Scale the numerical features\n",
        "df[numerical_features] = scaler.fit_transform(df[numerical_features])"
      ],
      "metadata": {
        "id": "hUxG8e3BgXSD"
      },
      "execution_count": 9,
      "outputs": []
    },
    {
      "cell_type": "markdown",
      "source": [
        "## 6. Train-Test Split\n",
        "\n",
        "In machine learning, it's important to split the dataset into two subsets: one for training the model and another for testing its performance. This is done to evaluate the model's performance on unseen data and avoid overfitting.\n",
        "\n",
        "#### Training Data:\n",
        "- **X_train**: This contains the features (inputs) for training the model.\n",
        "- **y_train**: This contains the target variable (output) for training the model.\n",
        "\n",
        "#### Testing Data:\n",
        "- **X_test**: This contains the features (inputs) for evaluating the trained model.\n",
        "- **y_test**: This contains the target variable (output) for evaluating the trained model.\n",
        "\n",
        "#### Explanation of the Code:\n",
        "1. **Define Features and Target**: We separate the dataset into features (`X`) and the target variable (`y`). The features are all columns except for the target variable (`Sales`), which is assigned to `y`.\n",
        "\n",
        "2. **Split the Data**: We use the `train_test_split()` function from `sklearn.model_selection` to split the dataset into training and testing sets.\n",
        "   - `test_size=0.2` specifies that 20% of the data should be used for testing, and the remaining 80% for training.\n",
        "   - `random_state=42` sets the random seed for reproducibility, ensuring that the split is the same each time the code is run.\n",
        "\n",
        "This splitting strategy allows us to train the model on one subset of the data and evaluate its performance on another subset, providing an estimate of how well the model generalizes to new, unseen data."
      ],
      "metadata": {
        "id": "-9CE1zvoMk0L"
      }
    },
    {
      "cell_type": "code",
      "source": [
        "# Define features (X) and target (y)\n",
        "X = df.drop(columns=['Sales'])\n",
        "y = df['Sales']\n",
        "\n",
        "# Split the data\n",
        "X_train, X_test, y_train, y_test = train_test_split(X, y, test_size=0.2, random_state=42)"
      ],
      "metadata": {
        "id": "y_Al0xMLgacs"
      },
      "execution_count": 10,
      "outputs": []
    },
    {
      "cell_type": "markdown",
      "source": [
        "## 7. Build and Evaluate a Machine Learning Model\n",
        "\n",
        "In this section, we build a machine learning model using linear regression and evaluate its performance on the test set.\n",
        "\n",
        "#### Steps:\n",
        "\n",
        "1. **Initialize the Model**: We create an instance of the `LinearRegression` model, which will be used to fit the training data and make predictions.\n",
        "\n",
        "2. **Train the Model**: We use the `fit()` method to train the model on the training data (`X_train`, `y_train`). This step involves finding the coefficients that best fit the training data.\n",
        "\n",
        "3. **Make Predictions**: We use the trained model to make predictions on the test data (`X_test`). The `predict()` method is used to generate predicted values (`y_pred`) for the target variable.\n",
        "\n",
        "4. **Evaluate the Model**:\n",
        "   - **Mean Squared Error (MSE)**: This metric measures the average squared difference between the actual and predicted values. A lower MSE indicates a better fit of the model to the data.\n",
        "   - **R-squared (R2)**: This metric indicates the proportion of the variance in the target variable that is predictable from the features. It ranges from 0 to 1, with higher values indicating a better fit.\n",
        "\n",
        "5. **Visualize Predictions**: We create a scatter plot to visualize the predicted sales (`y_pred`) against the actual sales (`y_test`). The diagonal dashed line represents a perfect prediction, where the predicted and actual values are equal.\n",
        "\n",
        "This process gives us insights into how well the model is performing and helps us understand the relationship between the features and the target variable."
      ],
      "metadata": {
        "id": "RHoliJcINGi8"
      }
    },
    {
      "cell_type": "code",
      "source": [
        "# Initialize the model\n",
        "model = LinearRegression()\n",
        "\n",
        "# Train the model\n",
        "model.fit(X_train, y_train)\n",
        "\n",
        "# Make predictions\n",
        "y_pred = model.predict(X_test)\n",
        "\n",
        "# Evaluate the model\n",
        "print(\"Mean Squared Error:\", mean_squared_error(y_test, y_pred))\n",
        "print(\"R-squared:\", r2_score(y_test, y_pred))"
      ],
      "metadata": {
        "colab": {
          "base_uri": "https://localhost:8080/"
        },
        "id": "swRn1Wvegclg",
        "outputId": "25c2640c-cc84-4601-96f5-04294985850e"
      },
      "execution_count": 11,
      "outputs": [
        {
          "output_type": "stream",
          "name": "stdout",
          "text": [
            "Mean Squared Error: 2.907756910271093\n",
            "R-squared: 0.9059011844150825\n"
          ]
        }
      ]
    },
    {
      "cell_type": "markdown",
      "source": [
        "The Mean Squared Error (MSE) and R-squared values are metrics used to evaluate the performance of a regression model, such as linear regression.\n",
        "\n",
        "- **Mean Squared Error (MSE)**:\n",
        "  - The MSE measures the average squared difference between the actual and predicted values.\n",
        "  - In this case, the MSE is approximately 2.91. This means, on average, the squared difference between the actual and predicted sales is 2.91 units. Lower values of MSE indicate a better fit of the model to the data.\n",
        "\n",
        "- **R-squared (R2)**:\n",
        "  - The R-squared value, also known as the coefficient of determination, indicates the proportion of the variance in the target variable (sales) that is predictable from the features (TV, Radio, Newspaper).\n",
        "  - An R-squared value of 0.906 indicates that approximately 90.6% of the variance in sales can be explained by the linear relationship with the features. Higher values of R-squared indicate a better fit of the model to the data.\n",
        "\n",
        "In summary, the linear regression model has an MSE of 2.91 and an R-squared value of 0.906, indicating that it provides a good fit to the data and can explain a significant portion of the variance in sales based on the advertising expenditures on TV, Radio, and Newspaper."
      ],
      "metadata": {
        "id": "eAgGIKIeNmNf"
      }
    },
    {
      "cell_type": "code",
      "source": [
        "# Predicted vs Actual Sales\n",
        "plt.figure(figsize=(10, 6))\n",
        "plt.scatter(y_test, y_pred, alpha=0.7)\n",
        "plt.xlabel('Actual Sales')\n",
        "plt.ylabel('Predicted Sales')\n",
        "plt.title('Actual vs Predicted Sales')\n",
        "plt.plot([min(y_test), max(y_test)], [min(y_test), max(y_test)], '--r')\n",
        "plt.show()"
      ],
      "metadata": {
        "colab": {
          "base_uri": "https://localhost:8080/",
          "height": 564
        },
        "id": "IxU0S5ahgeh4",
        "outputId": "d421967b-9e9b-4dd6-d5f3-1b67b8644d31"
      },
      "execution_count": 12,
      "outputs": [
        {
          "output_type": "display_data",
          "data": {
            "text/plain": [
              "<Figure size 1000x600 with 1 Axes>"
            ],
            "image/png": "[encoded data removed]"
          },
          "metadata": {}
        }
      ]
    },
    {
      "cell_type": "markdown",
      "source": [
        "# Conclusion\n",
        "\n",
        "In conclusion, the analysis and modeling of sales prediction using machine learning in Python have provided valuable insights into the relationship between advertising expenditures and sales.\n",
        "\n",
        "1. **Data Understanding**: The dataset contains information about advertising expenditure on TV, Radio, and Newspaper, along with corresponding sales figures. This dataset has been explored using descriptive statistics and visualizations to understand the distribution and relationships between variables.\n",
        "\n",
        "2. **Model Building and Evaluation**: A linear regression model was built to predict sales based on advertising expenditures. The model performed well, with a Mean Squared Error (MSE) of approximately 2.91 and an R-squared value of 0.906. These metrics indicate that the model explains around 90.6% of the variance in sales, suggesting a good fit to the data.\n",
        "\n",
        "3. **Key Findings**:\n",
        "   - Advertising expenditures on TV have a relatively large spread, with a mean of approximately 147.04 and a standard deviation of approximately 85.85.\n",
        "   - The linear regression model suggests a positive relationship between advertising expenditures and sales, with higher expenditures leading to higher sales, on average.\n",
        "\n",
        "4. **Implications**:\n",
        "   - Businesses can use these insights to optimize their advertising strategies, focusing more on channels that have a greater impact on sales.\n",
        "   - Data scientists and analysts can further refine the model by incorporating additional features or using more advanced machine learning techniques to improve prediction accuracy.\n",
        "\n",
        "Overall, the analysis demonstrates the importance of data-driven approaches in understanding and predicting sales, which can help businesses make informed decisions and drive growth."
      ],
      "metadata": {
        "id": "W73MIbvjcnmI"
      }
    }
  ]
}